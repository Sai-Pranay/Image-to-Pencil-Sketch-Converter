{
 "cells": [
  {
   "cell_type": "code",
   "execution_count": 2,
   "metadata": {},
   "outputs": [
    {
     "name": "stdout",
     "output_type": "stream",
     "text": [
      "Collecting opencv-python\n",
      "  Downloading opencv_python-4.7.0.72-cp37-abi3-win_amd64.whl (38.2 MB)\n",
      "Requirement already satisfied: numpy>=1.17.0; python_version >= \"3.7\" in c:\\users\\sai\\anaconda3\\lib\\site-packages (from opencv-python) (1.19.2)\n",
      "Installing collected packages: opencv-python\n",
      "Successfully installed opencv-python-4.7.0.72\n"
     ]
    }
   ],
   "source": [
    "!pip install opencv-python"
   ]
  },
  {
   "cell_type": "code",
   "execution_count": 1,
   "metadata": {},
   "outputs": [],
   "source": [
    "import cv2\n",
    "import tkinter as tk\n",
    "from tkinter import filedialog\n",
    "from PIL import ImageTk, Image\n",
    "\n",
    "def apply_sketch_filter(image_path):\n",
    "    image = cv2.imread(image_path)\n",
    "    grey_filter = cv2.cvtColor(image, cv2.COLOR_BGR2GRAY)\n",
    "    invert = cv2.bitwise_not(grey_filter)\n",
    "    blur = cv2.GaussianBlur(invert, (21, 21), 0)\n",
    "    invertedblur = cv2.bitwise_not(blur)\n",
    "    sketch_filter = cv2.divide(grey_filter, invertedblur, scale=256.0)\n",
    "    return sketch_filter\n",
    "\n",
    "def select_image():\n",
    "    file_path = filedialog.askopenfilename(filetypes=[(\"Image files\", \"*.png;*.jpg;*.jpeg\")])\n",
    "    if file_path:\n",
    "        sketch_image = apply_sketch_filter(file_path)\n",
    "        cv2.imwrite(\"ot1.png\", sketch_image)\n",
    "        display_sketch_image(\"ot1.png\")\n",
    "\n",
    "def display_sketch_image(image_path):\n",
    "    image = Image.open(image_path)\n",
    "    image.thumbnail((400, 400))  # Resize the image to fit within the window\n",
    "    img_tk = ImageTk.PhotoImage(image)\n",
    "    canvas.configure(image=img_tk)\n",
    "    canvas.image = img_tk\n",
    "\n",
    "# Create the main window\n",
    "window = tk.Tk()\n",
    "window.title(\"Sketch Filter Application\")\n",
    "\n",
    "# Create a canvas to display the image\n",
    "canvas = tk.Label(window)\n",
    "canvas.pack()\n",
    "\n",
    "# Create a button to select the image\n",
    "select_button = tk.Button(window, text=\"Select Image\", command=select_image)\n",
    "select_button.pack(pady=10)\n",
    "\n",
    "# Start the Tkinter event loop\n",
    "window.mainloop()\n"
   ]
  }
 ],
 "metadata": {
  "kernelspec": {
   "display_name": "Python 3",
   "language": "python",
   "name": "python3"
  },
  "language_info": {
   "codemirror_mode": {
    "name": "ipython",
    "version": 3
   },
   "file_extension": ".py",
   "mimetype": "text/x-python",
   "name": "python",
   "nbconvert_exporter": "python",
   "pygments_lexer": "ipython3",
   "version": "3.8.5"
  }
 },
 "nbformat": 4,
 "nbformat_minor": 4
}
